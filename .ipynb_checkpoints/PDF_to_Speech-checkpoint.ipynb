{
 "cells": [
  {
   "cell_type": "code",
   "execution_count": 13,
   "metadata": {},
   "outputs": [
    {
     "data": {
      "text/plain": [
       "0"
      ]
     },
     "execution_count": 13,
     "metadata": {},
     "output_type": "execute_result"
    }
   ],
   "source": [
    "from os import system\n",
    "system('say hello world')\n",
    "system('say -v Alex hello world')"
   ]
  },
  {
   "cell_type": "code",
   "execution_count": 14,
   "metadata": {},
   "outputs": [],
   "source": [
    "import PyPDF2\n",
    "import pyttsx3\n",
    "\n",
    "\n",
    "def extract_text(filename):\n",
    "\t\"\"\"\n",
    "\tfunction to extract text from pdf at given filename\n",
    "\t\"\"\"\n",
    "\tpdfFileObj = open(filename, \"rb\")\n",
    "\tpdfReader = PyPDF2.PdfFileReader(pdfFileObj)\n",
    "\n",
    "\tmytext = \"\"\n",
    "\n",
    "\tfor pageNum in range(pdfReader.numPages):\n",
    "\t\tpageObj = pdfReader.getPage(pageNum)\n",
    "\t\tmytext += pageObj.extractText()\n",
    "\n",
    "\tpdfFileObj.close()\n",
    "\n",
    "\treturn mytext\n",
    "\n",
    "\n",
    "def speak_text(text):\n",
    "\t\"\"\"\n",
    "\tfunction to invoke TTS engine to speak the pdf text\n",
    "\t\"\"\"\n",
    "\tengine = pyttsx3.init()\n",
    "\tengine.setProperty('rate', 150)\n",
    "\tengine.setProperty('voice', 'en+m7')\n",
    "\tengine.say(text)\n",
    "\tengine.runAndWait()\n",
    "\n",
    "\n",
    "if __name__ == \"__main__\":\n",
    "    text = extract_text(\"quotes.pdf\")"
   ]
  },
  {
   "cell_type": "code",
   "execution_count": 15,
   "metadata": {},
   "outputs": [
    {
     "data": {
      "text/plain": [
       "\"\\n\\n\\n \\nJack Dorsey\\n \\nCreator, Twitter. Founder and CEO, Square\\n \\n\\nI think that great programming is not all that dissimilar to great art. Once you start thinking \\nin concepts of programming it makes you a better person...as does learning a \\nforeign \\nlanguage, as does learning math, as does learning how to read.\\n\\n \\n \\nDrew Houston\\n \\nFounder & CEO, Dropbox\\n \\n\\nSoftware touches all of these different things you use, and tech companies are \\nrevolutionizing all different areas of the world...from how we shop\\n \\nto how farming works, all \\nthese things that aren't technical are being turned upside down by software. So being able \\nto play in that universe really makes a difference\\n.\\n \\n\\n \\n \\nSalman Khan\\n \\nFounder, Khan Academy\\n \\n\\nTo prepare humanity for the next 100 years, we \\nneed more of our children to learn \\ncomputer programming skills, regardless of their future profession. Along with reading and \\nwriting, the ability to program is going to define what an educated person is\\n.\\n \\n\\n \\n \\nPeter Denning\\n \\nAssociation of Computing Machinery\\n, former President\\n \\n\\nLearning to speak the language of information gives you the power to transform the world\\n.\\n \\n\\n \\n \\nBill Gates\\n \\nChairman, Microsoft\\n \\n\\nLearning to write programs stretches your mind, and helps you think better, creates a way \\nof thinking about thi\\nngs that I think is helpful in all domains.\\n\\n \\n \\n \\nGabe Newell\\n \\nFounder and President, Valve\\n \\n\\nThe programmers of tomorrow are the wizards of the future. You're going to look like you \\nhave magic powers compared to everybody else\\n\\n \\n \\nSource: www.code.org.\\n \\n\""
      ]
     },
     "execution_count": 15,
     "metadata": {},
     "output_type": "execute_result"
    }
   ],
   "source": [
    "text"
   ]
  },
  {
   "cell_type": "code",
   "execution_count": 16,
   "metadata": {},
   "outputs": [
    {
     "data": {
      "text/plain": [
       "512"
      ]
     },
     "execution_count": 16,
     "metadata": {},
     "output_type": "execute_result"
    }
   ],
   "source": [
    "from os import system\n",
    "system('say {}'.format(text))\n",
    "system('say -v Alex {}'.format(text))"
   ]
  },
  {
   "cell_type": "code",
   "execution_count": 30,
   "metadata": {},
   "outputs": [],
   "source": [
    "text = text.replace('\\n',' ')\n",
    "tetx = text.replace('&', ' ')"
   ]
  },
  {
   "cell_type": "code",
   "execution_count": 28,
   "metadata": {},
   "outputs": [
    {
     "data": {
      "text/plain": [
       "32512"
      ]
     },
     "execution_count": 28,
     "metadata": {},
     "output_type": "execute_result"
    }
   ],
   "source": [
    "system('say {}'.format(text))"
   ]
  },
  {
   "cell_type": "code",
   "execution_count": 31,
   "metadata": {},
   "outputs": [
    {
     "data": {
      "text/plain": [
       "\"     Jack Dorsey   Creator, Twitter. Founder and CEO, Square    I think that great programming is not all that dissimilar to great art. Once you start thinking  in concepts of programming it makes you a better person...as does learning a  foreign  language, as does learning math, as does learning how to read.      Drew Houston   Founder & CEO, Dropbox    Software touches all of these different things you use, and tech companies are  revolutionizing all different areas of the world...from how we shop   to how farming works, all  these things that aren't technical are being turned upside down by software. So being able  to play in that universe really makes a difference .        Salman Khan   Founder, Khan Academy    To prepare humanity for the next 100 years, we  need more of our children to learn  computer programming skills, regardless of their future profession. Along with reading and  writing, the ability to program is going to define what an educated person is .        Peter Denning   Association of Computing Machinery , former President    Learning to speak the language of information gives you the power to transform the world .        Bill Gates   Chairman, Microsoft    Learning to write programs stretches your mind, and helps you think better, creates a way  of thinking about thi ngs that I think is helpful in all domains.        Gabe Newell   Founder and President, Valve    The programmers of tomorrow are the wizards of the future. You're going to look like you  have magic powers compared to everybody else      Source: www.code.org.   \""
      ]
     },
     "execution_count": 31,
     "metadata": {},
     "output_type": "execute_result"
    }
   ],
   "source": [
    "text"
   ]
  },
  {
   "cell_type": "code",
   "execution_count": null,
   "metadata": {},
   "outputs": [],
   "source": []
  },
  {
   "cell_type": "code",
   "execution_count": 36,
   "metadata": {},
   "outputs": [
    {
     "data": {
      "text/plain": [
       "\"     Jack Dorsey   Creator, Twitter. Founder and CEO, Square    I think that great programming is not all that dissimilar to great art. Once you start thinking  in concepts of programming it makes you a better person...as does learning a  foreign  language, as does learning math, as does learning how to read.      Drew Houston   Founder & CEO, Dropbox    Software touches all of these different things you use, and tech companies are  revolutionizing all different areas of the world...from how we shop   to how farming works, all  these things that aren't technical are being turned upside down by software. So being able  to play in that universe really makes a difference .        Salman Khan   Founder, Khan Academy    To prepare humanity for the next 100 years, we  need more of our children to learn  computer programming skills, regardless of their future profession. Along with reading and  writing, the ability to program is going to define what an educated person is .        Peter Denning   Association of Computing Machinery , former President    Learning to speak the language of information gives you the power to transform the world .        Bill Gates   Chairman, Microsoft    Learning to write programs stretches your mind, and helps you think better, creates a way  of thinking about thi ngs that I think is helpful in all domains.        Gabe Newell   Founder and President, Valve    The programmers of tomorrow are the wizards of the future. You're going to look like you  have magic powers compared to everybody else      Source: www.code.org.   \""
      ]
     },
     "execution_count": 36,
     "metadata": {},
     "output_type": "execute_result"
    }
   ],
   "source": [
    "text"
   ]
  },
  {
   "cell_type": "code",
   "execution_count": 37,
   "metadata": {
    "collapsed": true
   },
   "outputs": [],
   "source": [
    "text = text.replace(\":\", \" \")"
   ]
  },
  {
   "cell_type": "code",
   "execution_count": 38,
   "metadata": {},
   "outputs": [
    {
     "data": {
      "text/plain": [
       "\"     Jack Dorsey   Creator, Twitter. Founder and CEO, Square    I think that great programming is not all that dissimilar to great art. Once you start thinking  in concepts of programming it makes you a better person...as does learning a  foreign  language, as does learning math, as does learning how to read.      Drew Houston   Founder & CEO, Dropbox    Software touches all of these different things you use, and tech companies are  revolutionizing all different areas of the world...from how we shop   to how farming works, all  these things that aren't technical are being turned upside down by software. So being able  to play in that universe really makes a difference .        Salman Khan   Founder, Khan Academy    To prepare humanity for the next 100 years, we  need more of our children to learn  computer programming skills, regardless of their future profession. Along with reading and  writing, the ability to program is going to define what an educated person is .        Peter Denning   Association of Computing Machinery , former President    Learning to speak the language of information gives you the power to transform the world .        Bill Gates   Chairman, Microsoft    Learning to write programs stretches your mind, and helps you think better, creates a way  of thinking about thi ngs that I think is helpful in all domains.        Gabe Newell   Founder and President, Valve    The programmers of tomorrow are the wizards of the future. You're going to look like you  have magic powers compared to everybody else      Source  www.code.org.   \""
      ]
     },
     "execution_count": 38,
     "metadata": {},
     "output_type": "execute_result"
    }
   ],
   "source": [
    "text"
   ]
  },
  {
   "cell_type": "code",
   "execution_count": 39,
   "metadata": {
    "collapsed": true
   },
   "outputs": [],
   "source": [
    "text = text.replace(\"&\", \" \")"
   ]
  },
  {
   "cell_type": "code",
   "execution_count": 40,
   "metadata": {},
   "outputs": [
    {
     "data": {
      "text/plain": [
       "\"     Jack Dorsey   Creator, Twitter. Founder and CEO, Square    I think that great programming is not all that dissimilar to great art. Once you start thinking  in concepts of programming it makes you a better person...as does learning a  foreign  language, as does learning math, as does learning how to read.      Drew Houston   Founder   CEO, Dropbox    Software touches all of these different things you use, and tech companies are  revolutionizing all different areas of the world...from how we shop   to how farming works, all  these things that aren't technical are being turned upside down by software. So being able  to play in that universe really makes a difference .        Salman Khan   Founder, Khan Academy    To prepare humanity for the next 100 years, we  need more of our children to learn  computer programming skills, regardless of their future profession. Along with reading and  writing, the ability to program is going to define what an educated person is .        Peter Denning   Association of Computing Machinery , former President    Learning to speak the language of information gives you the power to transform the world .        Bill Gates   Chairman, Microsoft    Learning to write programs stretches your mind, and helps you think better, creates a way  of thinking about thi ngs that I think is helpful in all domains.        Gabe Newell   Founder and President, Valve    The programmers of tomorrow are the wizards of the future. You're going to look like you  have magic powers compared to everybody else      Source  www.code.org.   \""
      ]
     },
     "execution_count": 40,
     "metadata": {},
     "output_type": "execute_result"
    }
   ],
   "source": [
    "text"
   ]
  },
  {
   "cell_type": "code",
   "execution_count": 41,
   "metadata": {},
   "outputs": [
    {
     "data": {
      "text/plain": [
       "0"
      ]
     },
     "execution_count": 41,
     "metadata": {},
     "output_type": "execute_result"
    }
   ],
   "source": [
    "system('say {}'.format(text))"
   ]
  },
  {
   "cell_type": "code",
   "execution_count": 42,
   "metadata": {},
   "outputs": [
    {
     "data": {
      "text/plain": [
       "0"
      ]
     },
     "execution_count": 42,
     "metadata": {},
     "output_type": "execute_result"
    }
   ],
   "source": [
    "system('say -v Alex {}'.format(text))"
   ]
  },
  {
   "cell_type": "code",
   "execution_count": null,
   "metadata": {
    "collapsed": true
   },
   "outputs": [],
   "source": []
  }
 ],
 "metadata": {
  "kernelspec": {
   "display_name": "Python 3",
   "language": "python",
   "name": "python3"
  },
  "language_info": {
   "codemirror_mode": {
    "name": "ipython",
    "version": 3
   },
   "file_extension": ".py",
   "mimetype": "text/x-python",
   "name": "python",
   "nbconvert_exporter": "python",
   "pygments_lexer": "ipython3",
   "version": "3.6.1"
  }
 },
 "nbformat": 4,
 "nbformat_minor": 2
}
